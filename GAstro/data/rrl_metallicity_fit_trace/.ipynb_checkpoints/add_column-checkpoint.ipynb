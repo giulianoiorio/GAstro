{
 "cells": [
  {
   "cell_type": "code",
   "execution_count": 1,
   "metadata": {},
   "outputs": [],
   "source": [
    "import pandas as pd"
   ]
  },
  {
   "cell_type": "code",
   "execution_count": 21,
   "metadata": {},
   "outputs": [],
   "source": [
    "t=pd.read_csv('trace_fe_pf_rel_layden.csv')\n",
    "t['Fe_hat_fit']=t['Fe_hat']\n",
    "t['Fe_hat']=t['Fe_hat_fit']-0.6*t['slope_p_fe']-2*t['slope_phi31_fe']\n",
    "t.to_csv('trace_fe_pf_rel_layden_mod.csv')"
   ]
  },
  {
   "cell_type": "code",
   "execution_count": 23,
   "metadata": {},
   "outputs": [],
   "source": [
    "t=pd.read_csv('trace_fe_pf_rel_marsakov.csv')\n",
    "t['Fe_hat_fit']=t['Fe_hat']\n",
    "t['Fe_hat']=t['Fe_hat_fit']-0.6*t['slope_p_fe']-2*t['slope_phi31_fe']\n",
    "t.to_csv('trace_fe_pf_rel_marsakov_mod.csv')"
   ]
  },
  {
   "cell_type": "code",
   "execution_count": 24,
   "metadata": {},
   "outputs": [],
   "source": [
    "t=pd.read_csv('trace_fe_pf_rel_nemec.csv')\n",
    "t['Fe_hat_fit']=t['Fe_hat']\n",
    "t['Fe_hat']=t['Fe_hat_fit']-0.6*t['slope_p_fe']-2*t['slope_phi31_fe']\n",
    "t.to_csv('trace_fe_pf_rel_nemec_mod.csv')"
   ]
  },
  {
   "cell_type": "code",
   "execution_count": 25,
   "metadata": {},
   "outputs": [],
   "source": [
    "t=pd.read_csv('trace_fe_pf_rel_RRc_GC.csv')\n",
    "t['Fe_hat_fit']=t['Fe_hat']\n",
    "t['Fe_hat']=t['Fe_hat_fit']-0.3*t['slope_p_fe']-3.5*t['slope_phi31_fe']\n",
    "t.to_csv('trace_fe_pf_rel_RRc_GC_mod.csv')"
   ]
  },
  {
   "cell_type": "code",
   "execution_count": null,
   "metadata": {},
   "outputs": [],
   "source": []
  }
 ],
 "metadata": {
  "kernelspec": {
   "display_name": "Python 3",
   "language": "python",
   "name": "python3"
  },
  "language_info": {
   "codemirror_mode": {
    "name": "ipython",
    "version": 3
   },
   "file_extension": ".py",
   "mimetype": "text/x-python",
   "name": "python",
   "nbconvert_exporter": "python",
   "pygments_lexer": "ipython3",
   "version": "3.7.3"
  }
 },
 "nbformat": 4,
 "nbformat_minor": 2
}
